{
 "cells": [
  {
   "cell_type": "markdown",
   "id": "dd57f006-dc4c-488f-aeb5-dc864fa14ece",
   "metadata": {},
   "source": [
    "# 2. Initial EDA"
   ]
  },
  {
   "cell_type": "markdown",
   "id": "9f14ae11-91e3-407b-ac48-6b3c2d498152",
   "metadata": {},
   "source": [
    "**Jordan Miranda**\n",
    "\n",
    "**Course: BrainStation Data Science**\n",
    "\n",
    "**Previous Notebook: 1. Preprocessing & Cleaning**\n",
    "\n",
    "**Next Notebook: 3. Feature Engineering**"
   ]
  },
  {
   "cell_type": "markdown",
   "id": "16bf6f74-a4e5-4605-b99f-2bda0c653dc8",
   "metadata": {},
   "source": [
    "# Introduction \n",
    "\n",
    "In our first notebook ***1. Preprocessing & Cleaning*** our data was imported and cleaned in order to be prepared for EDA and potentially modelling. In this notebook we will take a closer look into our data and attempt to uncover any potential relationships amongst our features, look for potential outliers, and hopefully gain insights that will guide our next steps prior to modelling."
   ]
  },
  {
   "cell_type": "markdown",
   "id": "ce605050-a377-4492-af50-a9f2b8b4259a",
   "metadata": {},
   "source": [
    "In order to begin we'll need to import our standard toolset and read in our data saved as a csv from the previous notebook."
   ]
  },
  {
   "cell_type": "code",
   "execution_count": 1,
   "id": "ee72b74b-508b-432a-8246-32df1814f797",
   "metadata": {
    "tags": []
   },
   "outputs": [],
   "source": [
    "# importing our standard tools\n",
    "import numpy as np\n",
    "import pandas as pd\n",
    "import matplotlib.pyplot as plt\n",
    "import seaborn as sns\n",
    "pd.options.display.max_columns=None"
   ]
  },
  {
   "cell_type": "code",
   "execution_count": 2,
   "id": "e543f3d5-0a40-47f0-b041-9b3d91bdc4bb",
   "metadata": {},
   "outputs": [
    {
     "data": {
      "text/html": [
       "<div>\n",
       "<style scoped>\n",
       "    .dataframe tbody tr th:only-of-type {\n",
       "        vertical-align: middle;\n",
       "    }\n",
       "\n",
       "    .dataframe tbody tr th {\n",
       "        vertical-align: top;\n",
       "    }\n",
       "\n",
       "    .dataframe thead th {\n",
       "        text-align: right;\n",
       "    }\n",
       "</style>\n",
       "<table border=\"1\" class=\"dataframe\">\n",
       "  <thead>\n",
       "    <tr style=\"text-align: right;\">\n",
       "      <th></th>\n",
       "      <th>Player_Name</th>\n",
       "      <th>Pos</th>\n",
       "      <th>Squad</th>\n",
       "      <th>Year</th>\n",
       "      <th>League</th>\n",
       "      <th>Age</th>\n",
       "      <th>Born</th>\n",
       "      <th>MP</th>\n",
       "      <th>Starts</th>\n",
       "      <th>Min</th>\n",
       "      <th>Gls</th>\n",
       "      <th>Ast</th>\n",
       "      <th>G-PK</th>\n",
       "      <th>PK</th>\n",
       "      <th>PKatt</th>\n",
       "      <th>CrdY</th>\n",
       "      <th>CrdR</th>\n",
       "      <th>Gls_p90</th>\n",
       "      <th>Ast_p90</th>\n",
       "      <th>G+A_p90</th>\n",
       "      <th>G-PK_p90</th>\n",
       "      <th>G+A-PK_p90</th>\n",
       "    </tr>\n",
       "  </thead>\n",
       "  <tbody>\n",
       "    <tr>\n",
       "      <th>0</th>\n",
       "      <td>Fernando-Menegazzo</td>\n",
       "      <td>MF</td>\n",
       "      <td>Bordeaux</td>\n",
       "      <td>2010</td>\n",
       "      <td>Ligue 1</td>\n",
       "      <td>29.0</td>\n",
       "      <td>1981.0</td>\n",
       "      <td>35</td>\n",
       "      <td>34</td>\n",
       "      <td>2945</td>\n",
       "      <td>2</td>\n",
       "      <td>1.0</td>\n",
       "      <td>2.0</td>\n",
       "      <td>0.0</td>\n",
       "      <td>0.0</td>\n",
       "      <td>7</td>\n",
       "      <td>0</td>\n",
       "      <td>0.06</td>\n",
       "      <td>0.03</td>\n",
       "      <td>0.09</td>\n",
       "      <td>0.06</td>\n",
       "      <td>0.09</td>\n",
       "    </tr>\n",
       "    <tr>\n",
       "      <th>1</th>\n",
       "      <td>Sergio-Abad-Beyxer</td>\n",
       "      <td>MF</td>\n",
       "      <td>Levante</td>\n",
       "      <td>2010</td>\n",
       "      <td>La Liga</td>\n",
       "      <td>21.0</td>\n",
       "      <td>1989.0</td>\n",
       "      <td>1</td>\n",
       "      <td>0</td>\n",
       "      <td>5</td>\n",
       "      <td>0</td>\n",
       "      <td>0.0</td>\n",
       "      <td>0.0</td>\n",
       "      <td>0.0</td>\n",
       "      <td>0.0</td>\n",
       "      <td>0</td>\n",
       "      <td>0</td>\n",
       "      <td>0.00</td>\n",
       "      <td>0.00</td>\n",
       "      <td>0.00</td>\n",
       "      <td>0.00</td>\n",
       "      <td>0.00</td>\n",
       "    </tr>\n",
       "    <tr>\n",
       "      <th>2</th>\n",
       "      <td>Ignazio-Abate</td>\n",
       "      <td>DFMF</td>\n",
       "      <td>Milan</td>\n",
       "      <td>2010</td>\n",
       "      <td>Serie A</td>\n",
       "      <td>23.0</td>\n",
       "      <td>1986.0</td>\n",
       "      <td>29</td>\n",
       "      <td>26</td>\n",
       "      <td>2412</td>\n",
       "      <td>0</td>\n",
       "      <td>1.0</td>\n",
       "      <td>0.0</td>\n",
       "      <td>0.0</td>\n",
       "      <td>0.0</td>\n",
       "      <td>2</td>\n",
       "      <td>1</td>\n",
       "      <td>0.00</td>\n",
       "      <td>0.04</td>\n",
       "      <td>0.04</td>\n",
       "      <td>0.00</td>\n",
       "      <td>0.04</td>\n",
       "    </tr>\n",
       "    <tr>\n",
       "      <th>3</th>\n",
       "      <td>Mohammed-Abdellaoue</td>\n",
       "      <td>FW</td>\n",
       "      <td>Hannover 96</td>\n",
       "      <td>2010</td>\n",
       "      <td>Bundesliga</td>\n",
       "      <td>24.0</td>\n",
       "      <td>1985.0</td>\n",
       "      <td>26</td>\n",
       "      <td>26</td>\n",
       "      <td>2086</td>\n",
       "      <td>10</td>\n",
       "      <td>1.0</td>\n",
       "      <td>10.0</td>\n",
       "      <td>0.0</td>\n",
       "      <td>0.0</td>\n",
       "      <td>1</td>\n",
       "      <td>0</td>\n",
       "      <td>0.43</td>\n",
       "      <td>0.04</td>\n",
       "      <td>0.47</td>\n",
       "      <td>0.43</td>\n",
       "      <td>0.47</td>\n",
       "    </tr>\n",
       "    <tr>\n",
       "      <th>4</th>\n",
       "      <td>Yacine-Abdessadki</td>\n",
       "      <td>MF</td>\n",
       "      <td>Freiburg</td>\n",
       "      <td>2010</td>\n",
       "      <td>Bundesliga</td>\n",
       "      <td>29.0</td>\n",
       "      <td>1981.0</td>\n",
       "      <td>21</td>\n",
       "      <td>20</td>\n",
       "      <td>1753</td>\n",
       "      <td>0</td>\n",
       "      <td>0.0</td>\n",
       "      <td>0.0</td>\n",
       "      <td>0.0</td>\n",
       "      <td>0.0</td>\n",
       "      <td>4</td>\n",
       "      <td>0</td>\n",
       "      <td>0.00</td>\n",
       "      <td>0.00</td>\n",
       "      <td>0.00</td>\n",
       "      <td>0.00</td>\n",
       "      <td>0.00</td>\n",
       "    </tr>\n",
       "    <tr>\n",
       "      <th>...</th>\n",
       "      <td>...</td>\n",
       "      <td>...</td>\n",
       "      <td>...</td>\n",
       "      <td>...</td>\n",
       "      <td>...</td>\n",
       "      <td>...</td>\n",
       "      <td>...</td>\n",
       "      <td>...</td>\n",
       "      <td>...</td>\n",
       "      <td>...</td>\n",
       "      <td>...</td>\n",
       "      <td>...</td>\n",
       "      <td>...</td>\n",
       "      <td>...</td>\n",
       "      <td>...</td>\n",
       "      <td>...</td>\n",
       "      <td>...</td>\n",
       "      <td>...</td>\n",
       "      <td>...</td>\n",
       "      <td>...</td>\n",
       "      <td>...</td>\n",
       "      <td>...</td>\n",
       "    </tr>\n",
       "    <tr>\n",
       "      <th>27669</th>\n",
       "      <td>Steven-Zuber</td>\n",
       "      <td>DFMF</td>\n",
       "      <td>Eint Frankfurt</td>\n",
       "      <td>2020</td>\n",
       "      <td>Bundesliga</td>\n",
       "      <td>28.0</td>\n",
       "      <td>1991.0</td>\n",
       "      <td>20</td>\n",
       "      <td>6</td>\n",
       "      <td>585</td>\n",
       "      <td>0</td>\n",
       "      <td>3.0</td>\n",
       "      <td>0.0</td>\n",
       "      <td>0.0</td>\n",
       "      <td>0.0</td>\n",
       "      <td>1</td>\n",
       "      <td>0</td>\n",
       "      <td>0.00</td>\n",
       "      <td>0.46</td>\n",
       "      <td>0.46</td>\n",
       "      <td>0.00</td>\n",
       "      <td>0.46</td>\n",
       "    </tr>\n",
       "    <tr>\n",
       "      <th>27670</th>\n",
       "      <td>Martin-Zubimendi</td>\n",
       "      <td>MF</td>\n",
       "      <td>Real Sociedad</td>\n",
       "      <td>2020</td>\n",
       "      <td>La Liga</td>\n",
       "      <td>21.0</td>\n",
       "      <td>1999.0</td>\n",
       "      <td>31</td>\n",
       "      <td>17</td>\n",
       "      <td>1882</td>\n",
       "      <td>0</td>\n",
       "      <td>0.0</td>\n",
       "      <td>0.0</td>\n",
       "      <td>0.0</td>\n",
       "      <td>0.0</td>\n",
       "      <td>6</td>\n",
       "      <td>0</td>\n",
       "      <td>0.00</td>\n",
       "      <td>0.00</td>\n",
       "      <td>0.00</td>\n",
       "      <td>0.00</td>\n",
       "      <td>0.00</td>\n",
       "    </tr>\n",
       "    <tr>\n",
       "      <th>27671</th>\n",
       "      <td>Martin-Odegaard</td>\n",
       "      <td>MF</td>\n",
       "      <td>Arsenal</td>\n",
       "      <td>2020</td>\n",
       "      <td>Premier League</td>\n",
       "      <td>21.0</td>\n",
       "      <td>1998.0</td>\n",
       "      <td>14</td>\n",
       "      <td>9</td>\n",
       "      <td>866</td>\n",
       "      <td>1</td>\n",
       "      <td>2.0</td>\n",
       "      <td>1.0</td>\n",
       "      <td>0.0</td>\n",
       "      <td>0.0</td>\n",
       "      <td>0</td>\n",
       "      <td>0</td>\n",
       "      <td>0.10</td>\n",
       "      <td>0.21</td>\n",
       "      <td>0.31</td>\n",
       "      <td>0.10</td>\n",
       "      <td>0.31</td>\n",
       "    </tr>\n",
       "    <tr>\n",
       "      <th>27672</th>\n",
       "      <td>Martin-Odegaard</td>\n",
       "      <td>MFFW</td>\n",
       "      <td>Real Madrid</td>\n",
       "      <td>2020</td>\n",
       "      <td>La Liga</td>\n",
       "      <td>21.0</td>\n",
       "      <td>1998.0</td>\n",
       "      <td>7</td>\n",
       "      <td>3</td>\n",
       "      <td>234</td>\n",
       "      <td>0</td>\n",
       "      <td>0.0</td>\n",
       "      <td>0.0</td>\n",
       "      <td>0.0</td>\n",
       "      <td>0.0</td>\n",
       "      <td>0</td>\n",
       "      <td>0</td>\n",
       "      <td>0.00</td>\n",
       "      <td>0.00</td>\n",
       "      <td>0.00</td>\n",
       "      <td>0.00</td>\n",
       "      <td>0.00</td>\n",
       "    </tr>\n",
       "    <tr>\n",
       "      <th>27673</th>\n",
       "      <td>Filip-Djuricic</td>\n",
       "      <td>MFFW</td>\n",
       "      <td>Sassuolo</td>\n",
       "      <td>2020</td>\n",
       "      <td>Serie A</td>\n",
       "      <td>28.0</td>\n",
       "      <td>1992.0</td>\n",
       "      <td>32</td>\n",
       "      <td>27</td>\n",
       "      <td>2079</td>\n",
       "      <td>5</td>\n",
       "      <td>4.0</td>\n",
       "      <td>4.0</td>\n",
       "      <td>1.0</td>\n",
       "      <td>1.0</td>\n",
       "      <td>5</td>\n",
       "      <td>0</td>\n",
       "      <td>0.22</td>\n",
       "      <td>0.17</td>\n",
       "      <td>0.39</td>\n",
       "      <td>0.17</td>\n",
       "      <td>0.35</td>\n",
       "    </tr>\n",
       "  </tbody>\n",
       "</table>\n",
       "<p>27674 rows × 22 columns</p>\n",
       "</div>"
      ],
      "text/plain": [
       "               Player_Name   Pos           Squad  Year          League   Age  \\\n",
       "0       Fernando-Menegazzo    MF        Bordeaux  2010         Ligue 1  29.0   \n",
       "1       Sergio-Abad-Beyxer    MF         Levante  2010         La Liga  21.0   \n",
       "2            Ignazio-Abate  DFMF           Milan  2010         Serie A  23.0   \n",
       "3      Mohammed-Abdellaoue    FW     Hannover 96  2010      Bundesliga  24.0   \n",
       "4        Yacine-Abdessadki    MF        Freiburg  2010      Bundesliga  29.0   \n",
       "...                    ...   ...             ...   ...             ...   ...   \n",
       "27669         Steven-Zuber  DFMF  Eint Frankfurt  2020      Bundesliga  28.0   \n",
       "27670     Martin-Zubimendi    MF   Real Sociedad  2020         La Liga  21.0   \n",
       "27671      Martin-Odegaard    MF         Arsenal  2020  Premier League  21.0   \n",
       "27672      Martin-Odegaard  MFFW     Real Madrid  2020         La Liga  21.0   \n",
       "27673       Filip-Djuricic  MFFW        Sassuolo  2020         Serie A  28.0   \n",
       "\n",
       "         Born  MP  Starts   Min  Gls  Ast  G-PK   PK  PKatt  CrdY  CrdR  \\\n",
       "0      1981.0  35      34  2945    2  1.0   2.0  0.0    0.0     7     0   \n",
       "1      1989.0   1       0     5    0  0.0   0.0  0.0    0.0     0     0   \n",
       "2      1986.0  29      26  2412    0  1.0   0.0  0.0    0.0     2     1   \n",
       "3      1985.0  26      26  2086   10  1.0  10.0  0.0    0.0     1     0   \n",
       "4      1981.0  21      20  1753    0  0.0   0.0  0.0    0.0     4     0   \n",
       "...       ...  ..     ...   ...  ...  ...   ...  ...    ...   ...   ...   \n",
       "27669  1991.0  20       6   585    0  3.0   0.0  0.0    0.0     1     0   \n",
       "27670  1999.0  31      17  1882    0  0.0   0.0  0.0    0.0     6     0   \n",
       "27671  1998.0  14       9   866    1  2.0   1.0  0.0    0.0     0     0   \n",
       "27672  1998.0   7       3   234    0  0.0   0.0  0.0    0.0     0     0   \n",
       "27673  1992.0  32      27  2079    5  4.0   4.0  1.0    1.0     5     0   \n",
       "\n",
       "       Gls_p90  Ast_p90  G+A_p90  G-PK_p90  G+A-PK_p90  \n",
       "0         0.06     0.03     0.09      0.06        0.09  \n",
       "1         0.00     0.00     0.00      0.00        0.00  \n",
       "2         0.00     0.04     0.04      0.00        0.04  \n",
       "3         0.43     0.04     0.47      0.43        0.47  \n",
       "4         0.00     0.00     0.00      0.00        0.00  \n",
       "...        ...      ...      ...       ...         ...  \n",
       "27669     0.00     0.46     0.46      0.00        0.46  \n",
       "27670     0.00     0.00     0.00      0.00        0.00  \n",
       "27671     0.10     0.21     0.31      0.10        0.31  \n",
       "27672     0.00     0.00     0.00      0.00        0.00  \n",
       "27673     0.22     0.17     0.39      0.17        0.35  \n",
       "\n",
       "[27674 rows x 22 columns]"
      ]
     },
     "execution_count": 2,
     "metadata": {},
     "output_type": "execute_result"
    }
   ],
   "source": [
    "# reading in the dataset and setting our index column to the provided one \n",
    "stats_df2 = pd.read_csv(\"FormattedCapstoneData/stats_df2.csv\", index_col=[0])\n",
    "stats_df2"
   ]
  },
  {
   "cell_type": "markdown",
   "id": "417bb166-91d5-4129-98cb-ac92d2d40abd",
   "metadata": {},
   "source": [
    "Let's check the datatypes of our features."
   ]
  },
  {
   "cell_type": "code",
   "execution_count": 3,
   "id": "62f40e3f-41c6-4e70-9ea7-8e4882f304e3",
   "metadata": {},
   "outputs": [
    {
     "name": "stdout",
     "output_type": "stream",
     "text": [
      "<class 'pandas.core.frame.DataFrame'>\n",
      "Int64Index: 27674 entries, 0 to 27673\n",
      "Data columns (total 22 columns):\n",
      " #   Column       Non-Null Count  Dtype  \n",
      "---  ------       --------------  -----  \n",
      " 0   Player_Name  27674 non-null  object \n",
      " 1   Pos          27674 non-null  object \n",
      " 2   Squad        27674 non-null  object \n",
      " 3   Year         27674 non-null  int64  \n",
      " 4   League       27674 non-null  object \n",
      " 5   Age          27674 non-null  float64\n",
      " 6   Born         27674 non-null  float64\n",
      " 7   MP           27674 non-null  int64  \n",
      " 8   Starts       27674 non-null  int64  \n",
      " 9   Min          27674 non-null  int64  \n",
      " 10  Gls          27674 non-null  int64  \n",
      " 11  Ast          27674 non-null  float64\n",
      " 12  G-PK         27674 non-null  float64\n",
      " 13  PK           27674 non-null  float64\n",
      " 14  PKatt        27674 non-null  float64\n",
      " 15  CrdY         27674 non-null  int64  \n",
      " 16  CrdR         27674 non-null  int64  \n",
      " 17  Gls_p90      27674 non-null  float64\n",
      " 18  Ast_p90      27674 non-null  float64\n",
      " 19  G+A_p90      27674 non-null  float64\n",
      " 20  G-PK_p90     27674 non-null  float64\n",
      " 21  G+A-PK_p90   27674 non-null  float64\n",
      "dtypes: float64(11), int64(7), object(4)\n",
      "memory usage: 4.9+ MB\n"
     ]
    }
   ],
   "source": [
    "stats_df2.info()"
   ]
  },
  {
   "cell_type": "markdown",
   "id": "5c24708f-9dea-49a3-ae2e-7180ddf211ff",
   "metadata": {},
   "source": [
    "# Exploratory Data Analysis - Categorical Columns"
   ]
  },
  {
   "cell_type": "markdown",
   "id": "32f007d1-3413-4b57-8bc0-3c7766df7772",
   "metadata": {},
   "source": [
    "From above we know that only four of the columns in our dataset are currently categorical values as displayed by their `object` datatype. Let's start by looking at these columns first."
   ]
  },
  {
   "cell_type": "markdown",
   "id": "105c867a-0431-43cb-9d77-42c7b5d1c34f",
   "metadata": {},
   "source": [
    "## Position Distribution"
   ]
  },
  {
   "cell_type": "markdown",
   "id": "17e270a0-9958-4707-abb6-938b9f674685",
   "metadata": {},
   "source": [
    "Starting at the `Pos` column, let's find out what position most players are playing in."
   ]
  },
  {
   "cell_type": "code",
   "execution_count": 4,
   "id": "766af47a-f890-4a6b-b1e3-9acc90deeb4e",
   "metadata": {},
   "outputs": [
    {
     "data": {
      "image/png": "[encoded data removed]",
      "text/plain": [
       "<Figure size 504x504 with 1 Axes>"
      ]
     },
     "metadata": {
      "needs_background": "light"
     },
     "output_type": "display_data"
    }
   ],
   "source": [
    "plt.figure()\n",
    "# grouping by the position and getting the count of player names in each position\n",
    "# then sorting by ascending and turning it into a horizontal barplot\n",
    "stats_df2.groupby(\"Pos\")[\"Player_Name\"].count().sort_values(ascending=True).plot(kind=\"barh\", figsize=(7, 7))\n",
    "# labels, titles, and cleaning\n",
    "plt.title(\"Player Distribution for Positions\")\n",
    "plt.ylabel(\"Positions\")\n",
    "plt.xlabel(\"Number of Players\")\n",
    "sns.despine()\n",
    "plt.show()"
   ]
  },
  {
   "cell_type": "markdown",
   "id": "4f251551-f376-4ef9-b13c-489f2175e344",
   "metadata": {},
   "source": [
    "From this chart we see that a large majority of players play as defenders (~ 8000) or midfielders (~ 7000). Between these two positions alone they make up over 15000 of the rows in our dataset which translates to approximately 54% of our data. Following these two positions we see that forwards and a combination position of forward and midfield each have approximately 4000 players in each. Given that the largest 3 positions are only a single position it could be assumed that the combination positions are when a player played in multiple positions over the course of that season, which isn't too common but does occur sometimes. \n",
    "\n",
    "If we plan to convert these columns into numerical values potentially through one hot encoding we may want to consider consolidating the columns down to just the three basic positions as these combinations positions start to make up less and less of the overall dataset and could add unnecessary confusion when attempting to extract insights from our modelling."
   ]
  },
  {
   "cell_type": "markdown",
   "id": "3deec131-5e57-41cc-900d-6fc0e5020ec3",
   "metadata": {},
   "source": [
    "## League"
   ]
  },
  {
   "cell_type": "markdown",
   "id": "074c4b10-20e5-419b-a84a-5f15e828748c",
   "metadata": {},
   "source": [
    "The first thing I'd like to check is if all Leagues play the same number of games over the course of their seasons. I believe from watching soccer that all of the top five european leagues play the same number of games per season but let's double check."
   ]
  },
  {
   "cell_type": "code",
   "execution_count": 5,
   "id": "829d2c3f-d691-4631-bcb5-994b3f9861af",
   "metadata": {},
   "outputs": [
    {
     "data": {
      "image/png": "[encoded data removed]",
      "text/plain": [
       "<Figure size 432x288 with 1 Axes>"
      ]
     },
     "metadata": {
      "needs_background": "light"
     },
     "output_type": "display_data"
    }
   ],
   "source": [
    "plt.figure()\n",
    "# grouping by league, summing the number of matches played \n",
    "# and plotting into bar chart\n",
    "stats_df2.groupby(\"League\")[\"MP\"].sum().plot(kind=\"bar\")\n",
    "\n",
    "# labels, titles and cleaning\n",
    "plt.title(\"Sum of Matches Played by League\")\n",
    "plt.xlabel(\"League Name\")\n",
    "plt.ylabel(\"Sum of Matches Played\")\n",
    "plt.xticks(rotation=45)\n",
    "sns.despine()\n",
    "plt.show()"
   ]
  },
  {
   "cell_type": "markdown",
   "id": "60073412-04f5-4bf1-aca3-fa72a11598d3",
   "metadata": {},
   "source": [
    "Looks like we were wrong! From the result of this bar chart and looking into this result on Google, it appears that each team in the Bundesliga (Germany's league) plays only **34 games** a season when compared to the other league's teams who play **38 games** a season. This is because the Bundesliga only has 18 teams in it so each team plays every other team twice (17x2) while in the other leagues there are 20 teams (19x2)."
   ]
  },
  {
   "cell_type": "markdown",
   "id": "aadbac0f-47d6-405b-94c7-0199615ae9b1",
   "metadata": {},
   "source": [
    "It's highly likely that due to the Bundesliga's reduced season, less goals are scored on average by Bundesliga players. Let's check now to see if that's true."
   ]
  },
  {
   "cell_type": "markdown",
   "id": "3a706380-60e2-46b7-aa84-19aef916d517",
   "metadata": {},
   "source": [
    "### Does Games Played Have an Effect on the Number of Goals Scored?"
   ]
  },
  {
   "cell_type": "code",
   "execution_count": 6,
   "id": "a59de08f-0ce7-48c8-ae1c-bc6e1f807f4d",
   "metadata": {},
   "outputs": [
    {
     "data": {
      "image/png": "[encoded data removed]",
      "text/plain": [
       "<Figure size 432x288 with 1 Axes>"
      ]
     },
     "metadata": {
      "needs_background": "light"
     },
     "output_type": "display_data"
    }
   ],
   "source": [
    "plt.figure()\n",
    "# grouping by league, summing the number of goals\n",
    "# and plotting into bar chart\n",
    "stats_df2.groupby(\"League\")[\"Gls\"].sum().plot(kind=\"bar\")\n",
    "\n",
    "# labels, titles and cleaning\n",
    "plt.title(\"Total Goals Scored per League\")\n",
    "plt.xlabel(\"League Name\")\n",
    "plt.ylabel(\"Total Goals\")\n",
    "plt.xticks(rotation=45)\n",
    "sns.despine()\n",
    "plt.show()"
   ]
  },
  {
   "cell_type": "markdown",
   "id": "31366676-3225-45eb-a436-5dc03cd3d8e3",
   "metadata": {},
   "source": [
    "It does seem that despite the Bundesliga's reduced season length they don't appear to have as severe reduced goal counts as we were initially expecting. While it is below the numbers recorded in La Liga, Serie A and the Premier League, the Bundesliga is not far off from Ligue 1. Either the defense in the Bundesliga is quite poor or the forwards there are extremely good at putting balls in the back of the net!"
   ]
  },
  {
   "cell_type": "markdown",
   "id": "31d57dad-25fa-44b1-a3c0-febf272b1f44",
   "metadata": {},
   "source": [
    "# Exploratory Data Analysis - Numerical Columns"
   ]
  },
  {
   "cell_type": "markdown",
   "id": "aca66e96-730f-40d7-b16d-c79acfbed8c3",
   "metadata": {},
   "source": [
    "The first thing we'll want to do with our numerical columns is plot out the distributions for each column. In order to do this we'll need to grab only the numerical columns from our dataset."
   ]
  },
  {
   "cell_type": "code",
   "execution_count": 10,
   "id": "a498d4c3-bf41-4950-bbbd-65b63518899b",
   "metadata": {},
   "outputs": [
    {
     "data": {
      "text/html": [
       "<div>\n",
       "<style scoped>\n",
       "    .dataframe tbody tr th:only-of-type {\n",
       "        vertical-align: middle;\n",
       "    }\n",
       "\n",
       "    .dataframe tbody tr th {\n",
       "        vertical-align: top;\n",
       "    }\n",
       "\n",
       "    .dataframe thead th {\n",
       "        text-align: right;\n",
       "    }\n",
       "</style>\n",
       "<table border=\"1\" class=\"dataframe\">\n",
       "  <thead>\n",
       "    <tr style=\"text-align: right;\">\n",
       "      <th></th>\n",
       "      <th>Year</th>\n",
       "      <th>Age</th>\n",
       "      <th>Born</th>\n",
       "      <th>MP</th>\n",
       "      <th>Starts</th>\n",
       "      <th>Min</th>\n",
       "      <th>Gls</th>\n",
       "      <th>Ast</th>\n",
       "      <th>G-PK</th>\n",
       "      <th>PK</th>\n",
       "      <th>PKatt</th>\n",
       "      <th>CrdY</th>\n",
       "      <th>CrdR</th>\n",
       "      <th>Gls_p90</th>\n",
       "      <th>Ast_p90</th>\n",
       "      <th>G+A_p90</th>\n",
       "      <th>G-PK_p90</th>\n",
       "      <th>G+A-PK_p90</th>\n",
       "    </tr>\n",
       "  </thead>\n",
       "  <tbody>\n",
       "    <tr>\n",
       "      <th>0</th>\n",
       "      <td>2010</td>\n",
       "      <td>29.0</td>\n",
       "      <td>1981.0</td>\n",
       "      <td>35</td>\n",
       "      <td>34</td>\n",
       "      <td>2945</td>\n",
       "      <td>2</td>\n",
       "      <td>1.0</td>\n",
       "      <td>2.0</td>\n",
       "      <td>0.0</td>\n",
       "      <td>0.0</td>\n",
       "      <td>7</td>\n",
       "      <td>0</td>\n",
       "      <td>0.06</td>\n",
       "      <td>0.03</td>\n",
       "      <td>0.09</td>\n",
       "      <td>0.06</td>\n",
       "      <td>0.09</td>\n",
       "    </tr>\n",
       "    <tr>\n",
       "      <th>1</th>\n",
       "      <td>2010</td>\n",
       "      <td>21.0</td>\n",
       "      <td>1989.0</td>\n",
       "      <td>1</td>\n",
       "      <td>0</td>\n",
       "      <td>5</td>\n",
       "      <td>0</td>\n",
       "      <td>0.0</td>\n",
       "      <td>0.0</td>\n",
       "      <td>0.0</td>\n",
       "      <td>0.0</td>\n",
       "      <td>0</td>\n",
       "      <td>0</td>\n",
       "      <td>0.00</td>\n",
       "      <td>0.00</td>\n",
       "      <td>0.00</td>\n",
       "      <td>0.00</td>\n",
       "      <td>0.00</td>\n",
       "    </tr>\n",
       "    <tr>\n",
       "      <th>2</th>\n",
       "      <td>2010</td>\n",
       "      <td>23.0</td>\n",
       "      <td>1986.0</td>\n",
       "      <td>29</td>\n",
       "      <td>26</td>\n",
       "      <td>2412</td>\n",
       "      <td>0</td>\n",
       "      <td>1.0</td>\n",
       "      <td>0.0</td>\n",
       "      <td>0.0</td>\n",
       "      <td>0.0</td>\n",
       "      <td>2</td>\n",
       "      <td>1</td>\n",
       "      <td>0.00</td>\n",
       "      <td>0.04</td>\n",
       "      <td>0.04</td>\n",
       "      <td>0.00</td>\n",
       "      <td>0.04</td>\n",
       "    </tr>\n",
       "    <tr>\n",
       "      <th>3</th>\n",
       "      <td>2010</td>\n",
       "      <td>24.0</td>\n",
       "      <td>1985.0</td>\n",
       "      <td>26</td>\n",
       "      <td>26</td>\n",
       "      <td>2086</td>\n",
       "      <td>10</td>\n",
       "      <td>1.0</td>\n",
       "      <td>10.0</td>\n",
       "      <td>0.0</td>\n",
       "      <td>0.0</td>\n",
       "      <td>1</td>\n",
       "      <td>0</td>\n",
       "      <td>0.43</td>\n",
       "      <td>0.04</td>\n",
       "      <td>0.47</td>\n",
       "      <td>0.43</td>\n",
       "      <td>0.47</td>\n",
       "    </tr>\n",
       "    <tr>\n",
       "      <th>4</th>\n",
       "      <td>2010</td>\n",
       "      <td>29.0</td>\n",
       "      <td>1981.0</td>\n",
       "      <td>21</td>\n",
       "      <td>20</td>\n",
       "      <td>1753</td>\n",
       "      <td>0</td>\n",
       "      <td>0.0</td>\n",
       "      <td>0.0</td>\n",
       "      <td>0.0</td>\n",
       "      <td>0.0</td>\n",
       "      <td>4</td>\n",
       "      <td>0</td>\n",
       "      <td>0.00</td>\n",
       "      <td>0.00</td>\n",
       "      <td>0.00</td>\n",
       "      <td>0.00</td>\n",
       "      <td>0.00</td>\n",
       "    </tr>\n",
       "    <tr>\n",
       "      <th>...</th>\n",
       "      <td>...</td>\n",
       "      <td>...</td>\n",
       "      <td>...</td>\n",
       "      <td>...</td>\n",
       "      <td>...</td>\n",
       "      <td>...</td>\n",
       "      <td>...</td>\n",
       "      <td>...</td>\n",
       "      <td>...</td>\n",
       "      <td>...</td>\n",
       "      <td>...</td>\n",
       "      <td>...</td>\n",
       "      <td>...</td>\n",
       "      <td>...</td>\n",
       "      <td>...</td>\n",
       "      <td>...</td>\n",
       "      <td>...</td>\n",
       "      <td>...</td>\n",
       "    </tr>\n",
       "    <tr>\n",
       "      <th>27669</th>\n",
       "      <td>2020</td>\n",
       "      <td>28.0</td>\n",
       "      <td>1991.0</td>\n",
       "      <td>20</td>\n",
       "      <td>6</td>\n",
       "      <td>585</td>\n",
       "      <td>0</td>\n",
       "      <td>3.0</td>\n",
       "      <td>0.0</td>\n",
       "      <td>0.0</td>\n",
       "      <td>0.0</td>\n",
       "      <td>1</td>\n",
       "      <td>0</td>\n",
       "      <td>0.00</td>\n",
       "      <td>0.46</td>\n",
       "      <td>0.46</td>\n",
       "      <td>0.00</td>\n",
       "      <td>0.46</td>\n",
       "    </tr>\n",
       "    <tr>\n",
       "      <th>27670</th>\n",
       "      <td>2020</td>\n",
       "      <td>21.0</td>\n",
       "      <td>1999.0</td>\n",
       "      <td>31</td>\n",
       "      <td>17</td>\n",
       "      <td>1882</td>\n",
       "      <td>0</td>\n",
       "      <td>0.0</td>\n",
       "      <td>0.0</td>\n",
       "      <td>0.0</td>\n",
       "      <td>0.0</td>\n",
       "      <td>6</td>\n",
       "      <td>0</td>\n",
       "      <td>0.00</td>\n",
       "      <td>0.00</td>\n",
       "      <td>0.00</td>\n",
       "      <td>0.00</td>\n",
       "      <td>0.00</td>\n",
       "    </tr>\n",
       "    <tr>\n",
       "      <th>27671</th>\n",
       "      <td>2020</td>\n",
       "      <td>21.0</td>\n",
       "      <td>1998.0</td>\n",
       "      <td>14</td>\n",
       "      <td>9</td>\n",
       "      <td>866</td>\n",
       "      <td>1</td>\n",
       "      <td>2.0</td>\n",
       "      <td>1.0</td>\n",
       "      <td>0.0</td>\n",
       "      <td>0.0</td>\n",
       "      <td>0</td>\n",
       "      <td>0</td>\n",
       "      <td>0.10</td>\n",
       "      <td>0.21</td>\n",
       "      <td>0.31</td>\n",
       "      <td>0.10</td>\n",
       "      <td>0.31</td>\n",
       "    </tr>\n",
       "    <tr>\n",
       "      <th>27672</th>\n",
       "      <td>2020</td>\n",
       "      <td>21.0</td>\n",
       "      <td>1998.0</td>\n",
       "      <td>7</td>\n",
       "      <td>3</td>\n",
       "      <td>234</td>\n",
       "      <td>0</td>\n",
       "      <td>0.0</td>\n",
       "      <td>0.0</td>\n",
       "      <td>0.0</td>\n",
       "      <td>0.0</td>\n",
       "      <td>0</td>\n",
       "      <td>0</td>\n",
       "      <td>0.00</td>\n",
       "      <td>0.00</td>\n",
       "      <td>0.00</td>\n",
       "      <td>0.00</td>\n",
       "      <td>0.00</td>\n",
       "    </tr>\n",
       "    <tr>\n",
       "      <th>27673</th>\n",
       "      <td>2020</td>\n",
       "      <td>28.0</td>\n",
       "      <td>1992.0</td>\n",
       "      <td>32</td>\n",
       "      <td>27</td>\n",
       "      <td>2079</td>\n",
       "      <td>5</td>\n",
       "      <td>4.0</td>\n",
       "      <td>4.0</td>\n",
       "      <td>1.0</td>\n",
       "      <td>1.0</td>\n",
       "      <td>5</td>\n",
       "      <td>0</td>\n",
       "      <td>0.22</td>\n",
       "      <td>0.17</td>\n",
       "      <td>0.39</td>\n",
       "      <td>0.17</td>\n",
       "      <td>0.35</td>\n",
       "    </tr>\n",
       "  </tbody>\n",
       "</table>\n",
       "<p>27674 rows × 18 columns</p>\n",
       "</div>"
      ],
      "text/plain": [
       "       Year   Age    Born  MP  Starts   Min  Gls  Ast  G-PK   PK  PKatt  CrdY  \\\n",
       "0      2010  29.0  1981.0  35      34  2945    2  1.0   2.0  0.0    0.0     7   \n",
       "1      2010  21.0  1989.0   1       0     5    0  0.0   0.0  0.0    0.0     0   \n",
       "2      2010  23.0  1986.0  29      26  2412    0  1.0   0.0  0.0    0.0     2   \n",
       "3      2010  24.0  1985.0  26      26  2086   10  1.0  10.0  0.0    0.0     1   \n",
       "4      2010  29.0  1981.0  21      20  1753    0  0.0   0.0  0.0    0.0     4   \n",
       "...     ...   ...     ...  ..     ...   ...  ...  ...   ...  ...    ...   ...   \n",
       "27669  2020  28.0  1991.0  20       6   585    0  3.0   0.0  0.0    0.0     1   \n",
       "27670  2020  21.0  1999.0  31      17  1882    0  0.0   0.0  0.0    0.0     6   \n",
       "27671  2020  21.0  1998.0  14       9   866    1  2.0   1.0  0.0    0.0     0   \n",
       "27672  2020  21.0  1998.0   7       3   234    0  0.0   0.0  0.0    0.0     0   \n",
       "27673  2020  28.0  1992.0  32      27  2079    5  4.0   4.0  1.0    1.0     5   \n",
       "\n",
       "       CrdR  Gls_p90  Ast_p90  G+A_p90  G-PK_p90  G+A-PK_p90  \n",
       "0         0     0.06     0.03     0.09      0.06        0.09  \n",
       "1         0     0.00     0.00     0.00      0.00        0.00  \n",
       "2         1     0.00     0.04     0.04      0.00        0.04  \n",
       "3         0     0.43     0.04     0.47      0.43        0.47  \n",
       "4         0     0.00     0.00     0.00      0.00        0.00  \n",
       "...     ...      ...      ...      ...       ...         ...  \n",
       "27669     0     0.00     0.46     0.46      0.00        0.46  \n",
       "27670     0     0.00     0.00     0.00      0.00        0.00  \n",
       "27671     0     0.10     0.21     0.31      0.10        0.31  \n",
       "27672     0     0.00     0.00     0.00      0.00        0.00  \n",
       "27673     0     0.22     0.17     0.39      0.17        0.35  \n",
       "\n",
       "[27674 rows x 18 columns]"
      ]
     },
     "execution_count": 10,
     "metadata": {},
     "output_type": "execute_result"
    }
   ],
   "source": [
    "# grabbing only numerical columns from datatset\n",
    "numeric = stats_df2.select_dtypes([\"float64\", \"int64\"])\n",
    "numeric"
   ]
  },
  {
   "cell_type": "code",
   "execution_count": 12,
   "id": "1f6e937a-032b-41cb-bd49-1022c2e0948e",
   "metadata": {},
   "outputs": [
    {
     "data": {
      "image/png": "[encoded data removed]",
      "text/plain": [
       "<Figure size 1440x1440 with 20 Axes>"
      ]
     },
     "metadata": {
      "needs_background": "light"
     },
     "output_type": "display_data"
    }
   ],
   "source": [
    "# creating our subplot\n",
    "plt.subplots(5, 4, figsize=(20, 20))\n",
    "\n",
    "for index, column in enumerate(numeric):\n",
    "    \n",
    "    # visualize distributions for each column\n",
    "    plt.subplot(5, 4, index+1)\n",
    "    sns.histplot(x=column, data=numeric)\n",
    "    \n",
    "plt.tight_layout()\n",
    "plt.show()"
   ]
  },
  {
   "cell_type": "markdown",
   "id": "388abc78-0d40-45a2-a118-5015fc4c6815",
   "metadata": {},
   "source": [
    "## Year / Born / Age Distributions"
   ]
  },
  {
   "cell_type": "markdown",
   "id": "f5fb0cc2-6327-44c4-8f37-a1b8cee56018",
   "metadata": {},
   "source": [
    "Our first few columns turn our quite well. Our `Year` column has a uniform distribution which is to be expected as there's the same amount of players playing every year give or take 100. The `Age` and `Born` columns both end up being normal distributions although the `Age` column looks like it might be slightly right skewed. \n",
    "\n",
    "## MP / Starts / Min Distribution\n",
    "\n",
    "The next three columns `MP`, `Starts`, and `Min` all have quite similar distributions which is to be expected as the values are inherently correlated. Both have a high number of players at the 1 value, then it quickly drops off and levels out beyond that. However, we do see these strange spikes every 2-4 values on the x-axis although this likely could be attributed to poor binning, let's quickly check using `MP`."
   ]
  },
  {
   "cell_type": "code",
   "execution_count": 16,
   "id": "9319db1c-d93a-49b7-abfd-97f04bd8e1f4",
   "metadata": {},
   "outputs": [
    {
     "data": {
      "image/png": "[encoded data removed]",
      "text/plain": [
       "<Figure size 432x288 with 1 Axes>"
      ]
     },
     "metadata": {
      "needs_background": "light"
     },
     "output_type": "display_data"
    }
   ],
   "source": [
    "# quickly checking if the spikes are due to binning\n",
    "plt.figure()\n",
    "plt.hist(stats_df2[\"MP\"], bins=38)\n",
    "\n",
    "# labels, titles, cleaning\n",
    "plt.title(\"MP Distribution\")\n",
    "plt.xlabel(\"Matches Played\")\n",
    "plt.ylabel(\"Count\")\n",
    "sns.despine()\n",
    "plt.show()"
   ]
  },
  {
   "cell_type": "markdown",
   "id": "6a56d8c4-6e4d-4296-9d5f-51383d9c55cc",
   "metadata": {},
   "source": [
    "As we correctly assumed, those spikes in the distribution are simply a result of poor binning. The distributions are as we stated earlier, high counts at the first value, quickly dropping off at the second value and then becoming very close to a uniform distribution all the way until the end of the x-axis where there is a slight dip as the x-axis ends."
   ]
  },
  {
   "cell_type": "markdown",
   "id": "2aa26923-dec8-4d42-8342-87d82a25d747",
   "metadata": {},
   "source": [
    "## Remaining Distributions\n",
    "\n",
    "All the other distributions for our numerical columns in the dataset seem to follow what looks like an exponential distribution. Starting out with an extremely high value at the first value and then sharply dropping as the x value becomes larger."
   ]
  },
  {
   "cell_type": "markdown",
   "id": "a78dfab9-129c-4de8-843f-0e5d0d2d38e1",
   "metadata": {},
   "source": [
    "## `_p90` Outliers"
   ]
  },
  {
   "cell_type": "markdown",
   "id": "29bdc530-c98e-4bdb-9c9f-cba9b9ad97da",
   "metadata": {},
   "source": [
    "Looking at the `_p90` columns we see that the x-axis is stretched out quite far all the way to 20 in most cases for these columns. This is quite interesting as it's completely unfathomable that any player would be able to average 20 goals or even assists per 90 minutes on the field. Let's take a closer look at the reasoning behind these column's charts having their x-axis scaled so far out. To do so we'll utilize boxplots to highlight our outliers."
   ]
  },
  {
   "cell_type": "code",
   "execution_count": 32,
   "id": "95c95d59-7150-4c3a-9ac3-9f5406c341a7",
   "metadata": {},
   "outputs": [
    {
     "data": {
      "image/png": "[encoded data removed]",
      "text/plain": [
       "<Figure size 432x288 with 1 Axes>"
      ]
     },
     "metadata": {
      "needs_background": "light"
     },
     "output_type": "display_data"
    },
    {
     "data": {
      "image/png": "[encoded data removed]",
      "text/plain": [
       "<Figure size 432x288 with 1 Axes>"
      ]
     },
     "metadata": {
      "needs_background": "light"
     },
     "output_type": "display_data"
    },
    {
     "data": {
      "image/png": "[encoded data removed]",
      "text/plain": [
       "<Figure size 432x288 with 1 Axes>"
      ]
     },
     "metadata": {
      "needs_background": "light"
     },
     "output_type": "display_data"
    },
    {
     "data": {
      "image/png": "[encoded data removed]",
      "text/plain": [
       "<Figure size 432x288 with 1 Axes>"
      ]
     },
     "metadata": {
      "needs_background": "light"
     },
     "output_type": "display_data"
    },
    {
     "data": {
      "image/png": "[encoded data removed]",
      "text/plain": [
       "<Figure size 432x288 with 1 Axes>"
      ]
     },
     "metadata": {
      "needs_background": "light"
     },
     "output_type": "display_data"
    }
   ],
   "source": [
    "# creating boxplot for each of the p90 columns to see how far these outliers values go to\n",
    "# listing out columns of interest\n",
    "for column in [\"Gls_p90\", \"Ast_p90\", \"G+A_p90\", \"G-PK_p90\", \"G+A-PK_p90\"]:\n",
    "    plt.figure()\n",
    "    sns.boxplot(x=stats_df2[column])\n",
    "    plt.title(f\"Boxplot of {column}\")\n",
    "    plt.show()"
   ]
  },
  {
   "cell_type": "markdown",
   "id": "04c1ac0b-2d83-4914-9b7e-a64fddbfc7f2",
   "metadata": {},
   "source": [
    "With these boxplots we can see that a majority of values fall into ranges that seem reasonable. However, we do get a fair amount of outliers up until the value of 5 which is tolerable. We can see now through these boxplots that the extreme values are only 1 or 2 offenders that are pushing the boundaries of what's realistic. Let's pull up these players in our dataframe to understand how this could happen."
   ]
  },
  {
   "cell_type": "code",
   "execution_count": 21,
   "id": "7027d199-1e1e-4292-8f49-fa887a7bfecc",
   "metadata": {},
   "outputs": [
    {
     "data": {
      "text/html": [
       "<div>\n",
       "<style scoped>\n",
       "    .dataframe tbody tr th:only-of-type {\n",
       "        vertical-align: middle;\n",
       "    }\n",
       "\n",
       "    .dataframe tbody tr th {\n",
       "        vertical-align: top;\n",
       "    }\n",
       "\n",
       "    .dataframe thead th {\n",
       "        text-align: right;\n",
       "    }\n",
       "</style>\n",
       "<table border=\"1\" class=\"dataframe\">\n",
       "  <thead>\n",
       "    <tr style=\"text-align: right;\">\n",
       "      <th></th>\n",
       "      <th>Player_Name</th>\n",
       "      <th>Pos</th>\n",
       "      <th>Squad</th>\n",
       "      <th>Year</th>\n",
       "      <th>League</th>\n",
       "      <th>Age</th>\n",
       "      <th>Born</th>\n",
       "      <th>MP</th>\n",
       "      <th>Starts</th>\n",
       "      <th>Min</th>\n",
       "      <th>Gls</th>\n",
       "      <th>Ast</th>\n",
       "      <th>G-PK</th>\n",
       "      <th>PK</th>\n",
       "      <th>PKatt</th>\n",
       "      <th>CrdY</th>\n",
       "      <th>CrdR</th>\n",
       "      <th>Gls_p90</th>\n",
       "      <th>Ast_p90</th>\n",
       "      <th>G+A_p90</th>\n",
       "      <th>G-PK_p90</th>\n",
       "      <th>G+A-PK_p90</th>\n",
       "    </tr>\n",
       "  </thead>\n",
       "  <tbody>\n",
       "    <tr>\n",
       "      <th>7220</th>\n",
       "      <td>Scott-Sinclair</td>\n",
       "      <td>FWMF</td>\n",
       "      <td>Swansea City</td>\n",
       "      <td>2012</td>\n",
       "      <td>Premier League</td>\n",
       "      <td>23.0</td>\n",
       "      <td>1989.0</td>\n",
       "      <td>1</td>\n",
       "      <td>0</td>\n",
       "      <td>14</td>\n",
       "      <td>1</td>\n",
       "      <td>0.0</td>\n",
       "      <td>1.0</td>\n",
       "      <td>0.0</td>\n",
       "      <td>0.0</td>\n",
       "      <td>0</td>\n",
       "      <td>0</td>\n",
       "      <td>6.43</td>\n",
       "      <td>0.0</td>\n",
       "      <td>6.43</td>\n",
       "      <td>6.43</td>\n",
       "      <td>6.43</td>\n",
       "    </tr>\n",
       "    <tr>\n",
       "      <th>7686</th>\n",
       "      <td>Levent-Aycicek</td>\n",
       "      <td>MF</td>\n",
       "      <td>Werder Bremen</td>\n",
       "      <td>2013</td>\n",
       "      <td>Bundesliga</td>\n",
       "      <td>19.0</td>\n",
       "      <td>1994.0</td>\n",
       "      <td>2</td>\n",
       "      <td>0</td>\n",
       "      <td>13</td>\n",
       "      <td>1</td>\n",
       "      <td>0.0</td>\n",
       "      <td>1.0</td>\n",
       "      <td>0.0</td>\n",
       "      <td>0.0</td>\n",
       "      <td>0</td>\n",
       "      <td>0</td>\n",
       "      <td>6.92</td>\n",
       "      <td>0.0</td>\n",
       "      <td>6.92</td>\n",
       "      <td>6.92</td>\n",
       "      <td>6.92</td>\n",
       "    </tr>\n",
       "    <tr>\n",
       "      <th>8762</th>\n",
       "      <td>Hicham-Khaloua</td>\n",
       "      <td>FW</td>\n",
       "      <td>Almer�a</td>\n",
       "      <td>2013</td>\n",
       "      <td>La Liga</td>\n",
       "      <td>18.0</td>\n",
       "      <td>1995.0</td>\n",
       "      <td>1</td>\n",
       "      <td>0</td>\n",
       "      <td>4</td>\n",
       "      <td>1</td>\n",
       "      <td>0.0</td>\n",
       "      <td>1.0</td>\n",
       "      <td>0.0</td>\n",
       "      <td>0.0</td>\n",
       "      <td>0</td>\n",
       "      <td>0</td>\n",
       "      <td>22.50</td>\n",
       "      <td>0.0</td>\n",
       "      <td>22.50</td>\n",
       "      <td>22.50</td>\n",
       "      <td>22.50</td>\n",
       "    </tr>\n",
       "    <tr>\n",
       "      <th>19106</th>\n",
       "      <td>Alexander-Meier</td>\n",
       "      <td>FW</td>\n",
       "      <td>Eint Frankfurt</td>\n",
       "      <td>2017</td>\n",
       "      <td>Bundesliga</td>\n",
       "      <td>34.0</td>\n",
       "      <td>1983.0</td>\n",
       "      <td>1</td>\n",
       "      <td>0</td>\n",
       "      <td>4</td>\n",
       "      <td>1</td>\n",
       "      <td>0.0</td>\n",
       "      <td>1.0</td>\n",
       "      <td>0.0</td>\n",
       "      <td>0.0</td>\n",
       "      <td>0</td>\n",
       "      <td>0</td>\n",
       "      <td>22.50</td>\n",
       "      <td>0.0</td>\n",
       "      <td>22.50</td>\n",
       "      <td>22.50</td>\n",
       "      <td>22.50</td>\n",
       "    </tr>\n",
       "    <tr>\n",
       "      <th>20980</th>\n",
       "      <td>Metehan-Guclu</td>\n",
       "      <td>FW</td>\n",
       "      <td>Paris S-G</td>\n",
       "      <td>2018</td>\n",
       "      <td>Ligue 1</td>\n",
       "      <td>19.0</td>\n",
       "      <td>1999.0</td>\n",
       "      <td>1</td>\n",
       "      <td>0</td>\n",
       "      <td>17</td>\n",
       "      <td>1</td>\n",
       "      <td>0.0</td>\n",
       "      <td>1.0</td>\n",
       "      <td>0.0</td>\n",
       "      <td>0.0</td>\n",
       "      <td>0</td>\n",
       "      <td>0</td>\n",
       "      <td>5.29</td>\n",
       "      <td>0.0</td>\n",
       "      <td>5.29</td>\n",
       "      <td>5.29</td>\n",
       "      <td>5.29</td>\n",
       "    </tr>\n",
       "    <tr>\n",
       "      <th>23795</th>\n",
       "      <td>Jack-Lahne</td>\n",
       "      <td>FW</td>\n",
       "      <td>Amiens</td>\n",
       "      <td>2019</td>\n",
       "      <td>Ligue 1</td>\n",
       "      <td>17.0</td>\n",
       "      <td>2001.0</td>\n",
       "      <td>1</td>\n",
       "      <td>0</td>\n",
       "      <td>9</td>\n",
       "      <td>1</td>\n",
       "      <td>0.0</td>\n",
       "      <td>1.0</td>\n",
       "      <td>0.0</td>\n",
       "      <td>0.0</td>\n",
       "      <td>0</td>\n",
       "      <td>0</td>\n",
       "      <td>10.00</td>\n",
       "      <td>0.0</td>\n",
       "      <td>10.00</td>\n",
       "      <td>10.00</td>\n",
       "      <td>10.00</td>\n",
       "    </tr>\n",
       "    <tr>\n",
       "      <th>23895</th>\n",
       "      <td>Losada</td>\n",
       "      <td>MFFW</td>\n",
       "      <td>Celta Vigo</td>\n",
       "      <td>2019</td>\n",
       "      <td>La Liga</td>\n",
       "      <td>17.0</td>\n",
       "      <td>2001.0</td>\n",
       "      <td>2</td>\n",
       "      <td>0</td>\n",
       "      <td>13</td>\n",
       "      <td>1</td>\n",
       "      <td>0.0</td>\n",
       "      <td>1.0</td>\n",
       "      <td>0.0</td>\n",
       "      <td>0.0</td>\n",
       "      <td>0</td>\n",
       "      <td>0</td>\n",
       "      <td>6.92</td>\n",
       "      <td>0.0</td>\n",
       "      <td>6.92</td>\n",
       "      <td>6.92</td>\n",
       "      <td>6.92</td>\n",
       "    </tr>\n",
       "  </tbody>\n",
       "</table>\n",
       "</div>"
      ],
      "text/plain": [
       "           Player_Name   Pos           Squad  Year          League   Age  \\\n",
       "7220    Scott-Sinclair  FWMF    Swansea City  2012  Premier League  23.0   \n",
       "7686    Levent-Aycicek    MF   Werder Bremen  2013      Bundesliga  19.0   \n",
       "8762    Hicham-Khaloua    FW         Almer�a  2013         La Liga  18.0   \n",
       "19106  Alexander-Meier    FW  Eint Frankfurt  2017      Bundesliga  34.0   \n",
       "20980    Metehan-Guclu    FW       Paris S-G  2018         Ligue 1  19.0   \n",
       "23795       Jack-Lahne    FW          Amiens  2019         Ligue 1  17.0   \n",
       "23895           Losada  MFFW      Celta Vigo  2019         La Liga  17.0   \n",
       "\n",
       "         Born  MP  Starts  Min  Gls  Ast  G-PK   PK  PKatt  CrdY  CrdR  \\\n",
       "7220   1989.0   1       0   14    1  0.0   1.0  0.0    0.0     0     0   \n",
       "7686   1994.0   2       0   13    1  0.0   1.0  0.0    0.0     0     0   \n",
       "8762   1995.0   1       0    4    1  0.0   1.0  0.0    0.0     0     0   \n",
       "19106  1983.0   1       0    4    1  0.0   1.0  0.0    0.0     0     0   \n",
       "20980  1999.0   1       0   17    1  0.0   1.0  0.0    0.0     0     0   \n",
       "23795  2001.0   1       0    9    1  0.0   1.0  0.0    0.0     0     0   \n",
       "23895  2001.0   2       0   13    1  0.0   1.0  0.0    0.0     0     0   \n",
       "\n",
       "       Gls_p90  Ast_p90  G+A_p90  G-PK_p90  G+A-PK_p90  \n",
       "7220      6.43      0.0     6.43      6.43        6.43  \n",
       "7686      6.92      0.0     6.92      6.92        6.92  \n",
       "8762     22.50      0.0    22.50     22.50       22.50  \n",
       "19106    22.50      0.0    22.50     22.50       22.50  \n",
       "20980     5.29      0.0     5.29      5.29        5.29  \n",
       "23795    10.00      0.0    10.00     10.00       10.00  \n",
       "23895     6.92      0.0     6.92      6.92        6.92  "
      ]
     },
     "execution_count": 21,
     "metadata": {},
     "output_type": "execute_result"
    }
   ],
   "source": [
    "# searching for players who have a goals per 90 greater than 5 (which is already quite unbelievable)\n",
    "stats_df2[stats_df2[\"Gls_p90\"] > 5]"
   ]
  },
  {
   "cell_type": "markdown",
   "id": "f5ff1ba2-ff18-4088-ae08-b8ec5d8c2bc2",
   "metadata": {},
   "source": [
    "We can see now something that is likely the case for all the `_p90` columns - players with an extremely low amount of minutes played that managed to score or assist have their `_p90` metrics artificially inflated as these metrics will extrapolate from the extremely small sample size of the minutes played by the respective player."
   ]
  },
  {
   "cell_type": "markdown",
   "id": "a1adc31c-fcc4-46ae-8223-2d0f7a3acf0a",
   "metadata": {},
   "source": [
    "While we can already detect that this may be a problem later in our modelling, we're going to choose to ignore it for now due to the following reason: during our feature engineering, we plan to perform a `.groupby()` on the `Player_Name` column and take the averages of all occurences of each player. When we perform the `groupby()` the player's normal seasons where they didn't register these anomaly scenarios will bring down the values in these one-off scenarios in these singular seasons."
   ]
  },
  {
   "cell_type": "markdown",
   "id": "39c97b49-26ea-45e2-a046-34743d0bfa9b",
   "metadata": {},
   "source": [
    "The rationale above applies to all `_p90` metrics for the time being. We are aware of these anomaly values but through averaging across multiple seasons I believe this values will come back down to reality and reveal the player's true metrics. If it does not then we will have to consider removing players with these non-realistic values as they could affect our model's ability to grasp what true outliers (anomalies like Cristiano Ronaldo or Lionel Messi) look like."
   ]
  },
  {
   "cell_type": "markdown",
   "id": "813e1e32-bdba-4c5c-a01c-932b51ed7464",
   "metadata": {},
   "source": [
    "## Total Goals vs Total Minutes Played"
   ]
  },
  {
   "cell_type": "markdown",
   "id": "52afe16a-d0a8-4ca9-80e3-4fb7cceeca7c",
   "metadata": {},
   "source": [
    "Let's create a scatter plot to plot out the number of goals scored vs the number of minutes played to see where most players cluster.\n",
    "\n",
    "We'll perform a `.groupby()` on the `Player_Name` column to gather players over their entire careers (using `.sum()` to get the totals)."
   ]
  },
  {
   "cell_type": "code",
   "execution_count": 49,
   "id": "88fe90c1-d7d5-47fc-8b76-a143fde160fe",
   "metadata": {},
   "outputs": [
    {
     "data": {
      "image/png": "[encoded data removed]",
      "text/plain": [
       "<Figure size 432x288 with 1 Axes>"
      ]
     },
     "metadata": {
      "needs_background": "light"
     },
     "output_type": "display_data"
    }
   ],
   "source": [
    "plt.figure()\n",
    "plt.scatter(stats_df2.groupby(\"Player_Name\")[\"Min\"].sum(), stats_df2.groupby(\"Player_Name\")[\"Gls\"].sum(), alpha=0.3)\n",
    "\n",
    "# labels, and cleaning\n",
    "plt.ylabel(\"Total Goals Scored\")\n",
    "plt.xlabel(\"Total Minutes Played\")\n",
    "plt.title(\"Total Goals Scored and Matches Played\")\n",
    "sns.despine()"
   ]
  },
  {
   "cell_type": "markdown",
   "id": "34d77400-292a-49c8-ba83-be34577c3217",
   "metadata": {},
   "source": [
    "From this scatter plot we can see just how many players there are in this dataset with less than 100, even 50, goals over their entire careers. Even though we designated an `alpha` value of 0.3 the density in the bottom left of this visual shows just how many players fall within what can be considered a normal career. We can see that beyond 150 goals and 30000 minutes played it becomes an extremely sparse area with less than likely 10 players out of approximately 7700 total. The players in this territory are truly tail-end anomalies making up only 0.13% of the total playerbase (given our eyeballed approximates)."
   ]
  },
  {
   "cell_type": "markdown",
   "id": "0d2b8460-3dfb-48ec-ba2e-e1a42d966a0f",
   "metadata": {},
   "source": [
    "What this chart does highlight for us as well is that we need to factor in how absolute value metrics such as the ones used above in our scatter plot could affect our model's ability to create fitting clusters. \n",
    "\n",
    "Let's take an example to better highlight this problem. We have a forward (we'll call him A) who averages a goal every 4 games, giving him a `Gl_p90` value of 0.25. We have a second forward (B) who averages a goal every 2 games, giving him a `Gl_p90` value of 0.5. Forward B however is extremely injury prone and plays on average only 4 games a season, this would give him a `Gls` value of 2. Forward A however is always match-fit and somehow manages to walk away from harsh tackles unscathed. He plays all 38 games in a season, giving him a `Gls` value of 9.5. If the two players maintained their `Gl_p90` value over the course of multiple seasons we would quickly see a large disparity between the two forwards. This can become a problem as an argument can be made (rightly so) that forward B despite his injuries is a better forward than forward A due to his ability to score more goals when he does get the chance to play. \n",
    "\n",
    "We want our model to be able to account for these disparities in absolute value metrics by looking at relative metrics such as the `Gls_p90` as mentioned above. By having a combination of both relative and absolute value metrics, we can account and judge each player for both their pros (forward A's longevity, forward B's scoring capabilities) and their cons (forward A's worse goal scoring rate, forward B's injury rate)."
   ]
  },
  {
   "cell_type": "markdown",
   "id": "8d2e7d00-8b27-4fc2-b127-b4b28b3fb663",
   "metadata": {},
   "source": [
    "# Conclusion"
   ]
  },
  {
   "cell_type": "markdown",
   "id": "450f066e-30f9-466e-9fb7-a212c607330a",
   "metadata": {},
   "source": [
    "With this knowledge of outliers and absolute versus relative-value metrics, let's move on to our next notebook ***3. Feature Engineering***, where we can work to create more relative-value metrics and convert some of our categorical columns into numerical values."
   ]
  }
 ],
 "metadata": {
  "kernelspec": {
   "display_name": "Python 3",
   "language": "python",
   "name": "python3"
  },
  "language_info": {
   "codemirror_mode": {
    "name": "ipython",
    "version": 3
   },
   "file_extension": ".py",
   "mimetype": "text/x-python",
   "name": "python",
   "nbconvert_exporter": "python",
   "pygments_lexer": "ipython3",
   "version": "3.8.8"
  }
 },
 "nbformat": 4,
 "nbformat_minor": 5
}
